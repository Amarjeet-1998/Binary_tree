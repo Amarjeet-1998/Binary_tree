{
  "nbformat": 4,
  "nbformat_minor": 0,
  "metadata": {
    "colab": {
      "name": "Untitled1.ipynb",
      "provenance": [],
      "authorship_tag": "ABX9TyOSZzwdKIrUEnVCIGPwpMGR",
      "include_colab_link": true
    },
    "kernelspec": {
      "name": "python3",
      "display_name": "Python 3"
    },
    "language_info": {
      "name": "python"
    }
  },
  "cells": [
    {
      "cell_type": "markdown",
      "metadata": {
        "id": "view-in-github",
        "colab_type": "text"
      },
      "source": [
        "<a href=\"https://colab.research.google.com/github/Amarjeet-1998/Binary_tree/blob/main/practice_python1.ipynb\" target=\"_parent\"><img src=\"https://colab.research.google.com/assets/colab-badge.svg\" alt=\"Open In Colab\"/></a>"
      ]
    },
    {
      "cell_type": "code",
      "metadata": {
        "id": "M4oz2ol1QqGu"
      },
      "source": [
        "def sleep_in(weekday, vacation):\n",
        "    if vacation:\n",
        "        return True\n",
        "    if weekday in ['monday', 'tuesday', 'wednesday', 'thursday', 'friday']:\n",
        "        return False\n",
        "    else:\n",
        "        return True"
      ],
      "execution_count": 5,
      "outputs": []
    },
    {
      "cell_type": "code",
      "metadata": {
        "colab": {
          "base_uri": "https://localhost:8080/"
        },
        "id": "PenAIITmR7b5",
        "outputId": "cb22b3bb-759f-4ca1-905f-d9539b1c55ee"
      },
      "source": [
        "True"
      ],
      "execution_count": 10,
      "outputs": [
        {
          "output_type": "execute_result",
          "data": {
            "text/plain": [
              "True"
            ]
          },
          "metadata": {},
          "execution_count": 10
        }
      ]
    },
    {
      "cell_type": "code",
      "metadata": {
        "id": "oZNHUW6ISbBM"
      },
      "source": [
        "s = 'Hi'"
      ],
      "execution_count": 12,
      "outputs": []
    },
    {
      "cell_type": "code",
      "metadata": {
        "colab": {
          "base_uri": "https://localhost:8080/"
        },
        "id": "QFCocEaYT3gJ",
        "outputId": "b32ecfe0-d5dc-4b24-972c-7f96b4a00461"
      },
      "source": [
        "print(s+s)"
      ],
      "execution_count": 14,
      "outputs": [
        {
          "output_type": "stream",
          "name": "stdout",
          "text": [
            "HiHi\n"
          ]
        }
      ]
    },
    {
      "cell_type": "code",
      "metadata": {
        "colab": {
          "base_uri": "https://localhost:8080/"
        },
        "id": "R3qJlzw4T_dD",
        "outputId": "ffefb391-ee62-4088-a1ee-5e2e3e5c6ced"
      },
      "source": [
        "print(s+ s+ s)"
      ],
      "execution_count": 15,
      "outputs": [
        {
          "output_type": "stream",
          "name": "stdout",
          "text": [
            "HiHiHi\n"
          ]
        }
      ]
    },
    {
      "cell_type": "code",
      "metadata": {
        "colab": {
          "base_uri": "https://localhost:8080/"
        },
        "id": "H1Qwk4EwUDuC",
        "outputId": "c58a8438-b50c-4414-e915-4122d06e4313"
      },
      "source": [
        "print(s+s+s+s+s+s)"
      ],
      "execution_count": 16,
      "outputs": [
        {
          "output_type": "stream",
          "name": "stdout",
          "text": [
            "HiHiHiHiHiHi\n"
          ]
        }
      ]
    },
    {
      "cell_type": "code",
      "metadata": {
        "colab": {
          "base_uri": "https://localhost:8080/"
        },
        "id": "E_-gnWgbULGZ",
        "outputId": "8613bc71-33b7-45c0-c775-37431cf0b0d1"
      },
      "source": [
        "print(s*8)"
      ],
      "execution_count": 17,
      "outputs": [
        {
          "output_type": "stream",
          "name": "stdout",
          "text": [
            "HiHiHiHiHiHiHiHi\n"
          ]
        }
      ]
    },
    {
      "cell_type": "code",
      "metadata": {
        "id": "0EEI0vBXUS5V"
      },
      "source": [
        "a = [1,2,6]"
      ],
      "execution_count": 18,
      "outputs": []
    },
    {
      "cell_type": "code",
      "metadata": {
        "colab": {
          "base_uri": "https://localhost:8080/"
        },
        "id": "di-dHza1VuiQ",
        "outputId": "b678aed2-b77c-4911-8cc5-b4abae49a525"
      },
      "source": [
        "print(a)"
      ],
      "execution_count": 19,
      "outputs": [
        {
          "output_type": "stream",
          "name": "stdout",
          "text": [
            "[1, 2, 6]\n"
          ]
        }
      ]
    },
    {
      "cell_type": "code",
      "metadata": {
        "colab": {
          "base_uri": "https://localhost:8080/"
        },
        "id": "1cEHWqBSVxm5",
        "outputId": "1c40d695-bb15-4624-f9d0-4e5f7547d6da"
      },
      "source": [
        "print(a[0])"
      ],
      "execution_count": 20,
      "outputs": [
        {
          "output_type": "stream",
          "name": "stdout",
          "text": [
            "1\n"
          ]
        }
      ]
    },
    {
      "cell_type": "code",
      "metadata": {
        "colab": {
          "base_uri": "https://localhost:8080/"
        },
        "id": "QbJB-jV9V5WF",
        "outputId": "aed1e1bc-6626-4226-d341-ca51abfa6bf7"
      },
      "source": [
        "print(a[2])"
      ],
      "execution_count": 22,
      "outputs": [
        {
          "output_type": "stream",
          "name": "stdout",
          "text": [
            "6\n"
          ]
        }
      ]
    },
    {
      "cell_type": "code",
      "metadata": {
        "colab": {
          "base_uri": "https://localhost:8080/"
        },
        "id": "U9KhOlrMV_N3",
        "outputId": "a82ad3eb-fa4d-4f60-cb33-d259a1422923"
      },
      "source": [
        "print(a[len(a)-1])"
      ],
      "execution_count": 23,
      "outputs": [
        {
          "output_type": "stream",
          "name": "stdout",
          "text": [
            "6\n"
          ]
        }
      ]
    },
    {
      "cell_type": "code",
      "metadata": {
        "colab": {
          "base_uri": "https://localhost:8080/"
        },
        "id": "VaUYq3ceWipg",
        "outputId": "38568e39-502e-461a-9106-6b04c6f78d78"
      },
      "source": [
        "print(a[-1])"
      ],
      "execution_count": 25,
      "outputs": [
        {
          "output_type": "stream",
          "name": "stdout",
          "text": [
            "6\n"
          ]
        }
      ]
    },
    {
      "cell_type": "code",
      "metadata": {
        "id": "I8oY0touWwEO"
      },
      "source": [
        "d = 'abc'"
      ],
      "execution_count": 26,
      "outputs": []
    },
    {
      "cell_type": "code",
      "metadata": {
        "id": "umJvmU6uXOoZ"
      },
      "source": [
        "#d = d + 'f'"
      ],
      "execution_count": 27,
      "outputs": []
    },
    {
      "cell_type": "code",
      "metadata": {
        "colab": {
          "base_uri": "https://localhost:8080/"
        },
        "id": "NC-7xitQXX6Z",
        "outputId": "1ea2777c-ac9a-42e0-bf35-509bd3b3f4a5"
      },
      "source": [
        "#print(d)"
      ],
      "execution_count": 28,
      "outputs": [
        {
          "output_type": "stream",
          "name": "stdout",
          "text": [
            "abcf\n"
          ]
        }
      ]
    },
    {
      "cell_type": "code",
      "metadata": {
        "id": "Z2NPql6qXgnq"
      },
      "source": [
        "d +=  'f'"
      ],
      "execution_count": null,
      "outputs": []
    },
    {
      "cell_type": "code",
      "metadata": {
        "id": "6ePqXf9wXo-b"
      },
      "source": [
        ""
      ],
      "execution_count": null,
      "outputs": []
    },
    {
      "cell_type": "code",
      "metadata": {
        "id": "nm8-8rFiXumk"
      },
      "source": [
        ""
      ],
      "execution_count": null,
      "outputs": []
    }
  ]
}