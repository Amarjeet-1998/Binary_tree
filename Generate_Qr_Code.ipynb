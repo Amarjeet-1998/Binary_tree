{
  "nbformat": 4,
  "nbformat_minor": 0,
  "metadata": {
    "colab": {
      "name": "Generate Qr Code.ipynb",
      "provenance": [],
      "authorship_tag": "ABX9TyNHjRB7OEA3hQlUec/BoBEZ",
      "include_colab_link": true
    },
    "kernelspec": {
      "name": "python3",
      "display_name": "Python 3"
    },
    "language_info": {
      "name": "python"
    }
  },
  "cells": [
    {
      "cell_type": "markdown",
      "metadata": {
        "id": "view-in-github",
        "colab_type": "text"
      },
      "source": [
        "<a href=\"https://colab.research.google.com/github/Amarjeet-1998/Binary_tree/blob/main/Generate_Qr_Code.ipynb\" target=\"_parent\"><img src=\"https://colab.research.google.com/assets/colab-badge.svg\" alt=\"Open In Colab\"/></a>"
      ]
    },
    {
      "cell_type": "code",
      "metadata": {
        "id": "MlYHbD11wct6"
      },
      "source": [
        "# Run \"pip install pyqrcode\" before running this program\n",
        "import pyqrcode"
      ],
      "execution_count": null,
      "outputs": []
    },
    {
      "cell_type": "code",
      "metadata": {
        "colab": {
          "base_uri": "https://localhost:8080/"
        },
        "id": "1_U--gL70Mu0",
        "outputId": "cf7cb378-8dcf-4785-e1d3-e9e90b23be25"
      },
      "source": [
        "pip install pyqrcode"
      ],
      "execution_count": 2,
      "outputs": [
        {
          "output_type": "stream",
          "name": "stdout",
          "text": [
            "Collecting pyqrcode\n",
            "  Downloading PyQRCode-1.2.1.zip (41 kB)\n",
            "\u001b[?25l\r\u001b[K     |███████▉                        | 10 kB 24.8 MB/s eta 0:00:01\r\u001b[K     |███████████████▋                | 20 kB 23.4 MB/s eta 0:00:01\r\u001b[K     |███████████████████████▌        | 30 kB 27.9 MB/s eta 0:00:01\r\u001b[K     |███████████████████████████████▎| 40 kB 32.2 MB/s eta 0:00:01\r\u001b[K     |████████████████████████████████| 41 kB 660 kB/s \n",
            "\u001b[?25hBuilding wheels for collected packages: pyqrcode\n",
            "  Building wheel for pyqrcode (setup.py) ... \u001b[?25l\u001b[?25hdone\n",
            "  Created wheel for pyqrcode: filename=PyQRCode-1.2.1-py3-none-any.whl size=36245 sha256=ea7629229ecdb40ad5d1c0222d339d7618d6ba9c65a25f79a044ee30e70270cf\n",
            "  Stored in directory: /root/.cache/pip/wheels/aa/14/ad/f09824edf35fdc5fd8acc01b60ff57f858f212a2d5c41dddd2\n",
            "Successfully built pyqrcode\n",
            "Installing collected packages: pyqrcode\n",
            "Successfully installed pyqrcode-1.2.1\n"
          ]
        }
      ]
    },
    {
      "cell_type": "code",
      "metadata": {
        "id": "yOon6LMH0E7O"
      },
      "source": [
        "import pyqrcode"
      ],
      "execution_count": 3,
      "outputs": []
    },
    {
      "cell_type": "code",
      "metadata": {
        "colab": {
          "base_uri": "https://localhost:8080/"
        },
        "id": "ajq9JM9T0Vtu",
        "outputId": "17d66cbb-da6f-4a05-fc8f-fe1cc29035fd"
      },
      "source": [
        "data = input(\"Enter the text or link to generate QR code: \")"
      ],
      "execution_count": 4,
      "outputs": [
        {
          "name": "stdout",
          "output_type": "stream",
          "text": [
            "Enter the text or link to generate QR code: education\n"
          ]
        }
      ]
    },
    {
      "cell_type": "code",
      "metadata": {
        "id": "F7JPYB2n0aK2"
      },
      "source": [
        "# Using pyqrcode.create() to create a qr code of the input data \n",
        "qr = pyqrcode.create(data)"
      ],
      "execution_count": 5,
      "outputs": []
    },
    {
      "cell_type": "code",
      "metadata": {
        "id": "pQf265_Y0jVS"
      },
      "source": [
        "# Using .svg method to save the qr code as SVG file of provided name & scale \n",
        "qr.svg('qr_code.svg', scale = 8)"
      ],
      "execution_count": 6,
      "outputs": []
    },
    {
      "cell_type": "code",
      "metadata": {
        "id": "AuQIhuFy0riZ"
      },
      "source": [
        ""
      ],
      "execution_count": null,
      "outputs": []
    }
  ]
}